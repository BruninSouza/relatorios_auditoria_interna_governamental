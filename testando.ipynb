{
 "cells": [
  {
   "cell_type": "code",
   "execution_count": 30,
   "metadata": {},
   "outputs": [],
   "source": [
    "import pandas as pd\n",
    "import numpy as np\n",
    "\n",
    "df = pd.read_csv(\"novo_relatorio.csv\")\n",
    "df['PUBLICADO_EM'] = pd.to_datetime(df['PUBLICADO_EM'], format='mixed')"
   ]
  },
  {
   "cell_type": "code",
   "execution_count": 31,
   "metadata": {},
   "outputs": [
    {
     "data": {
      "text/plain": [
       "AVALIAÇÃO_DE_POLÍTICA_PÚBLICA\n",
       "Não    1303\n",
       "Sim     328\n",
       "Name: count, dtype: int64"
      ]
     },
     "execution_count": 31,
     "metadata": {},
     "output_type": "execute_result"
    }
   ],
   "source": [
    "avaliacao = df[\"AVALIAÇÃO_DE_POLÍTICA_PÚBLICA\"].value_counts()\n",
    "avaliacao"
   ]
  },
  {
   "cell_type": "code",
   "execution_count": 32,
   "metadata": {},
   "outputs": [
    {
     "data": {
      "text/plain": [
       "TIPO_DE_SERVIÇO\n",
       "Avaliação        1208\n",
       "Apuração          384\n",
       "Consultoria        31\n",
       "Não se aplica      15\n",
       "Name: count, dtype: int64"
      ]
     },
     "execution_count": 32,
     "metadata": {},
     "output_type": "execute_result"
    }
   ],
   "source": [
    "servico = df[\"TIPO_DE_SERVIÇO\"].value_counts()\n",
    "servico"
   ]
  },
  {
   "cell_type": "code",
   "execution_count": 33,
   "metadata": {},
   "outputs": [
    {
     "data": {
      "text/plain": [
       "GRUPO_DE_ATIVIDADE\n",
       "Outros                                             1180\n",
       "Análise de Alertas de Licitações                    135\n",
       "Avaliação dos Contratos de Recursos Externos         63\n",
       "Avaliação da Prestação Anual de Contas               59\n",
       "Fiscalização de Entes Federativos                    53\n",
       "Demandas Externas e Representações                   49\n",
       "Relatório de Atividades Subsidiárias                  1\n",
       "Prestação de Contas da Presidência da República       1\n",
       "Name: count, dtype: int64"
      ]
     },
     "execution_count": 33,
     "metadata": {},
     "output_type": "execute_result"
    }
   ],
   "source": [
    "grupo = df[\"GRUPO_DE_ATIVIDADE\"].value_counts()\n",
    "grupo"
   ]
  },
  {
   "cell_type": "code",
   "execution_count": 34,
   "metadata": {},
   "outputs": [
    {
     "data": {
      "text/plain": [
       "Index(['TÍTULO', 'TIPO_DE_SERVIÇO', 'GRUPO_DE_ATIVIDADE', 'LINHA_DE_AÇÃO',\n",
       "       'AVALIAÇÃO_DE_POLÍTICA_PÚBLICA', 'PUBLICADO_EM', 'LOCALIDADES'],\n",
       "      dtype='object')"
      ]
     },
     "execution_count": 34,
     "metadata": {},
     "output_type": "execute_result"
    }
   ],
   "source": [
    "df.columns"
   ]
  },
  {
   "cell_type": "code",
   "execution_count": 35,
   "metadata": {},
   "outputs": [
    {
     "data": {
      "text/plain": [
       "LINHA_DE_AÇÃO\n",
       "Auditoria interna governamental    1079\n",
       "Auditoria Interna Governamental     559\n",
       "Name: count, dtype: int64"
      ]
     },
     "execution_count": 35,
     "metadata": {},
     "output_type": "execute_result"
    }
   ],
   "source": [
    "acao = df[\"LINHA_DE_AÇÃO\"].value_counts()\n",
    "acao"
   ]
  }
 ],
 "metadata": {
  "kernelspec": {
   "display_name": "base",
   "language": "python",
   "name": "python3"
  },
  "language_info": {
   "codemirror_mode": {
    "name": "ipython",
    "version": 3
   },
   "file_extension": ".py",
   "mimetype": "text/x-python",
   "name": "python",
   "nbconvert_exporter": "python",
   "pygments_lexer": "ipython3",
   "version": "3.11.7"
  }
 },
 "nbformat": 4,
 "nbformat_minor": 2
}
